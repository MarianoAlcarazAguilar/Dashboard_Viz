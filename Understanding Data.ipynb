{
 "cells": [
  {
   "cell_type": "markdown",
   "id": "0973433c",
   "metadata": {},
   "source": [
    "# Understanding Data"
   ]
  },
  {
   "cell_type": "markdown",
   "id": "5873d7aa",
   "metadata": {},
   "source": [
    "\n",
    "- Coropleta con el tiempo promedio de vuelta en el circuito para ver cuáles son las más tardadas\n",
    "- Seleccionando un país, te da la distribución de tiempo por vuelta ---> Violin plot\n",
    "- Desgaste de llantas por circuito\n",
    "- Coropletas de los países por número de pilotos\n",
    "- Steamgraph de los puntos obtenidos por cada equipo a lo largo del tiempo ---> Streamgraph\n",
    "- Seleccionando un equipo ---> barplot con los puntos en cada circuito\n",
    "                          ---> puntos por circuito\n",
    "                          ---> nacionalidad de los pilotos\n",
    "- Histórico, teniendo un filtro de año, una coropleta que pinte el circuito del color del equipo que más puntos ha ganado en él"
   ]
  },
  {
   "cell_type": "code",
   "execution_count": 1,
   "id": "c59fb1cd",
   "metadata": {},
   "outputs": [],
   "source": [
    "import pandas as pd\n",
    "import numpy as np\n",
    "import matplotlib.pyplot as plt"
   ]
  },
  {
   "cell_type": "code",
   "execution_count": 2,
   "id": "02693263",
   "metadata": {},
   "outputs": [
    {
     "data": {
      "text/html": [
       "<div>\n",
       "<style scoped>\n",
       "    .dataframe tbody tr th:only-of-type {\n",
       "        vertical-align: middle;\n",
       "    }\n",
       "\n",
       "    .dataframe tbody tr th {\n",
       "        vertical-align: top;\n",
       "    }\n",
       "\n",
       "    .dataframe thead th {\n",
       "        text-align: right;\n",
       "    }\n",
       "</style>\n",
       "<table border=\"1\" class=\"dataframe\">\n",
       "  <thead>\n",
       "    <tr style=\"text-align: right;\">\n",
       "      <th></th>\n",
       "      <th>circuitId</th>\n",
       "      <th>circuitRef</th>\n",
       "      <th>name</th>\n",
       "      <th>location</th>\n",
       "      <th>country</th>\n",
       "      <th>lat</th>\n",
       "      <th>lng</th>\n",
       "      <th>alt</th>\n",
       "      <th>url</th>\n",
       "    </tr>\n",
       "  </thead>\n",
       "  <tbody>\n",
       "    <tr>\n",
       "      <th>0</th>\n",
       "      <td>1</td>\n",
       "      <td>albert_park</td>\n",
       "      <td>Albert Park Grand Prix Circuit</td>\n",
       "      <td>Melbourne</td>\n",
       "      <td>Australia</td>\n",
       "      <td>-37.84970</td>\n",
       "      <td>144.9680</td>\n",
       "      <td>10</td>\n",
       "      <td>http://en.wikipedia.org/wiki/Melbourne_Grand_P...</td>\n",
       "    </tr>\n",
       "    <tr>\n",
       "      <th>1</th>\n",
       "      <td>2</td>\n",
       "      <td>sepang</td>\n",
       "      <td>Sepang International Circuit</td>\n",
       "      <td>Kuala Lumpur</td>\n",
       "      <td>Malaysia</td>\n",
       "      <td>2.76083</td>\n",
       "      <td>101.7380</td>\n",
       "      <td>18</td>\n",
       "      <td>http://en.wikipedia.org/wiki/Sepang_Internatio...</td>\n",
       "    </tr>\n",
       "    <tr>\n",
       "      <th>2</th>\n",
       "      <td>3</td>\n",
       "      <td>bahrain</td>\n",
       "      <td>Bahrain International Circuit</td>\n",
       "      <td>Sakhir</td>\n",
       "      <td>Bahrain</td>\n",
       "      <td>26.03250</td>\n",
       "      <td>50.5106</td>\n",
       "      <td>7</td>\n",
       "      <td>http://en.wikipedia.org/wiki/Bahrain_Internati...</td>\n",
       "    </tr>\n",
       "  </tbody>\n",
       "</table>\n",
       "</div>"
      ],
      "text/plain": [
       "   circuitId   circuitRef                            name      location  \\\n",
       "0          1  albert_park  Albert Park Grand Prix Circuit     Melbourne   \n",
       "1          2       sepang    Sepang International Circuit  Kuala Lumpur   \n",
       "2          3      bahrain   Bahrain International Circuit        Sakhir   \n",
       "\n",
       "     country       lat       lng alt  \\\n",
       "0  Australia -37.84970  144.9680  10   \n",
       "1   Malaysia   2.76083  101.7380  18   \n",
       "2    Bahrain  26.03250   50.5106   7   \n",
       "\n",
       "                                                 url  \n",
       "0  http://en.wikipedia.org/wiki/Melbourne_Grand_P...  \n",
       "1  http://en.wikipedia.org/wiki/Sepang_Internatio...  \n",
       "2  http://en.wikipedia.org/wiki/Bahrain_Internati...  "
      ]
     },
     "execution_count": 2,
     "metadata": {},
     "output_type": "execute_result"
    }
   ],
   "source": [
    "# Este tiene la ubicación de los circuitos\n",
    "# longitud y latitud\n",
    "circuitos = pd.read_csv('../proytecto/SEASON2022/circuits.csv')\n",
    "circuitos.head(3)"
   ]
  },
  {
   "cell_type": "code",
   "execution_count": 3,
   "id": "492c9742",
   "metadata": {},
   "outputs": [],
   "source": [
    "races = pd.read_csv('datos/races.csv', usecols=['raceId', 'year'])\n",
    "puntos = pd.read_csv('datos/puntosequipo.csv', usecols=['team', 'points', 'raceId'])"
   ]
  },
  {
   "cell_type": "code",
   "execution_count": 4,
   "id": "7e99e820",
   "metadata": {},
   "outputs": [],
   "source": [
    "auxiliar_stream_graph = (puntos\n",
    " .merge(races, on='raceId')\n",
    " .drop(columns=['raceId'])\n",
    " .groupby(['year', 'team'])\n",
    " .agg(puntos=pd.NamedAgg('points', np.sum))\n",
    " .reset_index()\n",
    " .assign(\n",
    "     puntos_anio=lambda df: df.groupby('year').puntos.transform(np.sum),\n",
    "     porcentaje=lambda x: np.round(x.puntos / x.puntos_anio * 100, 1)\n",
    " )\n",
    " .drop(columns=['puntos_anio'])\n",
    ")\n",
    "# auxiliar_stream_graph.to_csv('datos/data_for_streamgraph.csv', index=False)"
   ]
  },
  {
   "cell_type": "markdown",
   "id": "1e747831",
   "metadata": {},
   "source": [
    "### Ahora vamos a preparar los datos para poder filtrarlos por año, equipo y circuito"
   ]
  },
  {
   "cell_type": "code",
   "execution_count": 5,
   "id": "e880f67c",
   "metadata": {},
   "outputs": [],
   "source": [
    "races = pd.read_csv('datos/races.csv') #, usecols=['raceId', 'year'])\n",
    "puntos = pd.read_csv('datos/puntosequipo.csv') #, usecols=['team', 'points', 'raceId'])"
   ]
  },
  {
   "cell_type": "code",
   "execution_count": 28,
   "id": "c04c7361",
   "metadata": {},
   "outputs": [],
   "source": [
    "# Los datos que necesito son los siguientes:\n",
    "# año, circuito, equipo, puntos\n",
    "# año: races -> year\n",
    "# circuito: races -> name, circuitId\n",
    "# equipo: puntos -> team\n",
    "# puntos: puntos -> points\n",
    "aux_puntos = puntos[['raceId', 'team', 'points']]\n",
    "aux_races = races[['raceId', 'circuitId', 'year']]\n",
    "auxiliar_puntos_por_anio = (aux_puntos\n",
    " .merge(aux_races, on='raceId', how='inner')\n",
    " .sort_values(by='team')\n",
    " # Supongamos lo siguiente: se pide de los años 2020 a 2022\n",
    " #.query('year >= 2020 and year <= 2022')\n",
    " #.groupby(['circuitId', 'team'])\n",
    " #.agg(total=pd.NamedAgg('points', np.sum))\n",
    " #.reset_index()\n",
    " #.groupby('circuitId')\n",
    " #.total\n",
    " #.max()\n",
    ")\n",
    "auxiliar_puntos_por_anio.to_csv('./datos/points_per_year.csv', index=False)"
   ]
  },
  {
   "cell_type": "code",
   "execution_count": 31,
   "id": "26f20703",
   "metadata": {},
   "outputs": [],
   "source": [
    "# Vamos a crear un dataframe con los colores de los equipos\n",
    "# Así va a ser más fácil colorearlos después, que sino es mucho pedo\n",
    "equipos = auxiliar_puntos_por_anio.team.unique()\n",
    "colores = [\"#C92D4B\", \"#5E8FAA\", \"#2293D1\", \"#358C75\", \"#F91536\", \n",
    "           \"#B6BABD\", \"#F58020\", \"#6CD3BF\", \"#3671C6\", \"#37BEDD\"]\n",
    "(pd\n",
    " .DataFrame({'team':equipos, 'color':colores})\n",
    " .to_csv('datos/colores_equipos.csv', index=False)\n",
    ")"
   ]
  },
  {
   "cell_type": "code",
   "execution_count": null,
   "id": "980aa9c9",
   "metadata": {},
   "outputs": [],
   "source": []
  }
 ],
 "metadata": {
  "kernelspec": {
   "display_name": "Python 3 (ipykernel)",
   "language": "python",
   "name": "python3"
  },
  "language_info": {
   "codemirror_mode": {
    "name": "ipython",
    "version": 3
   },
   "file_extension": ".py",
   "mimetype": "text/x-python",
   "name": "python",
   "nbconvert_exporter": "python",
   "pygments_lexer": "ipython3",
   "version": "3.10.9"
  }
 },
 "nbformat": 4,
 "nbformat_minor": 5
}
